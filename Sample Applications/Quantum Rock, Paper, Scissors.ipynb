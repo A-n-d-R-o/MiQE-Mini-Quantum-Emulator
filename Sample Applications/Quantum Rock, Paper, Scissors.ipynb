{
 "cells": [
  {
   "cell_type": "code",
   "execution_count": 1,
   "id": "c5e927b6-2e54-40db-b342-a9c8fd698885",
   "metadata": {},
   "outputs": [],
   "source": [
    "from MiQE import *"
   ]
  },
  {
   "cell_type": "code",
   "execution_count": 2,
   "id": "8d139357-8493-4ec6-9b2b-7adaaf3be922",
   "metadata": {},
   "outputs": [],
   "source": [
    "def play():\n",
    "    \n",
    "    # get valid user throw\n",
    "    while True:\n",
    "        user_throw = input('Rock, paper, scissors!: ').lower()\n",
    "        if user_throw in ['rock', 'paper', 'scissors']:\n",
    "            break\n",
    "        print('Invalid throw!')\n",
    "\n",
    "    # get qc throw\n",
    "    rps = QuantumCircuit(2)\n",
    "    rps.gate(Ry(np.arccos(-1/3)), 0)\n",
    "    rps.C(H, 0, 1)\n",
    "    qc_throw = rps.measure_all()\n",
    "    \n",
    "    if qc_throw == '00':\n",
    "        qc_throw = 'rock'\n",
    "    elif qc_throw == '10':\n",
    "        qc_throw = 'paper'\n",
    "    elif qc_throw == '11':\n",
    "        qc_throw = 'scissors'\n",
    "\n",
    "    # calculate result\n",
    "    if user_throw == qc_throw:\n",
    "        print(f'\\033[1mTIE\\033[0m: {user_throw} = {qc_throw}')\n",
    "    elif (\n",
    "        (user_throw == 'rock' and qc_throw == 'scissors') or\n",
    "        (user_throw == 'scissors' and qc_throw == 'paper') or\n",
    "        (user_throw == 'paper' and qc_throw == 'rock')\n",
    "    ):\n",
    "        print(f'\\033[1mYOU WIN\\033[0m: {user_throw} > {qc_throw}')\n",
    "    else:\n",
    "        print(f'\\033[1mYOU LOSE\\033[0m: {user_throw} < {qc_throw}')\n",
    "    print('-' * 35)\n",
    "\n",
    "    # play again?\n",
    "    while True:\n",
    "        play_again = input('Play again? Y/N: ').lower()\n",
    "        if play_again == 'y':\n",
    "            print('-' * 35)\n",
    "            return play()\n",
    "        elif play_again == 'n':\n",
    "            break"
   ]
  },
  {
   "cell_type": "code",
   "execution_count": 3,
   "id": "b44a42fe-e405-4a5c-a819-474bd7330dc0",
   "metadata": {},
   "outputs": [
    {
     "name": "stdin",
     "output_type": "stream",
     "text": [
      "Rock, paper, scissors!:  rock\n"
     ]
    },
    {
     "name": "stdout",
     "output_type": "stream",
     "text": [
      "\u001b[1mYOU LOSE\u001b[0m: rock < paper\n",
      "-----------------------------------\n"
     ]
    },
    {
     "name": "stdin",
     "output_type": "stream",
     "text": [
      "Play again? Y/N:  y\n"
     ]
    },
    {
     "name": "stdout",
     "output_type": "stream",
     "text": [
      "-----------------------------------\n"
     ]
    },
    {
     "name": "stdin",
     "output_type": "stream",
     "text": [
      "Rock, paper, scissors!:  paper\n"
     ]
    },
    {
     "name": "stdout",
     "output_type": "stream",
     "text": [
      "\u001b[1mTIE\u001b[0m: paper = paper\n",
      "-----------------------------------\n"
     ]
    },
    {
     "name": "stdin",
     "output_type": "stream",
     "text": [
      "Play again? Y/N:  y\n"
     ]
    },
    {
     "name": "stdout",
     "output_type": "stream",
     "text": [
      "-----------------------------------\n"
     ]
    },
    {
     "name": "stdin",
     "output_type": "stream",
     "text": [
      "Rock, paper, scissors!:  paper\n"
     ]
    },
    {
     "name": "stdout",
     "output_type": "stream",
     "text": [
      "\u001b[1mYOU WIN\u001b[0m: paper > rock\n",
      "-----------------------------------\n"
     ]
    },
    {
     "name": "stdin",
     "output_type": "stream",
     "text": [
      "Play again? Y/N:  n\n"
     ]
    }
   ],
   "source": [
    "play()"
   ]
  }
 ],
 "metadata": {
  "kernelspec": {
   "display_name": "Python 3 (ipykernel)",
   "language": "python",
   "name": "python3"
  },
  "language_info": {
   "codemirror_mode": {
    "name": "ipython",
    "version": 3
   },
   "file_extension": ".py",
   "mimetype": "text/x-python",
   "name": "python",
   "nbconvert_exporter": "python",
   "pygments_lexer": "ipython3",
   "version": "3.11.2"
  }
 },
 "nbformat": 4,
 "nbformat_minor": 5
}
