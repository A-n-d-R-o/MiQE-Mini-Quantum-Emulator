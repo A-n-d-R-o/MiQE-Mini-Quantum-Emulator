{
 "cells": [
  {
   "cell_type": "markdown",
   "id": "73620ff2-b4c3-4e07-adb9-45523db8cc07",
   "metadata": {},
   "source": [
    "### This implementation is a translation of the [Qiskit Textbook content on solving sudoku using Grover's algorithm](https://github.com/Qiskit/textbook/blob/main/notebooks/ch-algorithms/grover.ipynb).\n",
    "\n",
    "---"
   ]
  },
  {
   "cell_type": "code",
   "execution_count": 1,
   "id": "cd85f0ee-bf84-4238-83fa-26abe4737d0f",
   "metadata": {},
   "outputs": [],
   "source": [
    "from MiQE import *"
   ]
  },
  {
   "cell_type": "markdown",
   "id": "521425e4-9f6d-4cea-9427-a4e00001259d",
   "metadata": {},
   "source": [
    "For solving a $2 \\times 2$ sudoko of the form $ \\begin{bmatrix} V_0 & V_1 \\\\ V_2 & V_3 \\end{bmatrix} $:"
   ]
  },
  {
   "cell_type": "code",
   "execution_count": 2,
   "id": "1c62e986-87eb-4498-98e3-032257b246fe",
   "metadata": {},
   "outputs": [],
   "source": [
    "clause_list = [[0,1], [0,2], [1,3], [2,3]]"
   ]
  },
  {
   "cell_type": "code",
   "execution_count": 3,
   "id": "951494b0-aab2-4bc3-b155-8c358f7b8be5",
   "metadata": {},
   "outputs": [],
   "source": [
    "def XOR(qc, a, b, output):\n",
    "    qc.C(X, a, output)\n",
    "    qc.C(X, b, output)"
   ]
  },
  {
   "cell_type": "code",
   "execution_count": 4,
   "id": "61c4bb15-5be1-458d-8f86-ea484611775c",
   "metadata": {},
   "outputs": [],
   "source": [
    "def sudoku_oracle(qc, clause_list, clause_qubits):\n",
    "    \n",
    "    i = 0\n",
    "    for clause in clause_list:\n",
    "        XOR(qc, clause[0], clause[1], clause_qubits[i])\n",
    "        i += 1\n",
    "\n",
    "    qc.C(X, clause_qubits, *output_qubit)\n",
    "\n",
    "    i = 0\n",
    "    for clause in clause_list:\n",
    "        XOR(qc, clause[0], clause[1], clause_qubits[i])\n",
    "        i += 1"
   ]
  },
  {
   "cell_type": "code",
   "execution_count": 5,
   "id": "c9308ef4-69f3-44a9-bc02-eaac804aff2b",
   "metadata": {},
   "outputs": [],
   "source": [
    "var_qubits = [0, 1, 2, 3]\n",
    "clause_qubits = [4, 5, 6, 7]\n",
    "output_qubit = [8]\n",
    "qc = QuantumCircuit(9)\n",
    "\n",
    "qc.gate(X, *output_qubit)\n",
    "qc.gate(H, *output_qubit)\n",
    "\n",
    "qc.gate(H, *var_qubits)\n",
    "\n",
    "sudoku_oracle(qc, clause_list, clause_qubits)\n",
    "\n",
    "qc.gate(H, *var_qubits)\n",
    "qc.gate(X, *var_qubits)\n",
    "qc.C(Z, var_qubits[:-1], var_qubits[-1])\n",
    "qc.gate(X, *var_qubits)\n",
    "qc.gate(H, *var_qubits)\n",
    "\n",
    "sudoku_oracle(qc, clause_list, clause_qubits)\n",
    "\n",
    "qc.gate(H, *var_qubits)\n",
    "qc.gate(X, *var_qubits)\n",
    "qc.C(Z, var_qubits[:-1], var_qubits[-1])\n",
    "qc.gate(X, *var_qubits)\n",
    "qc.gate(H, *var_qubits)"
   ]
  },
  {
   "cell_type": "code",
   "execution_count": 6,
   "id": "f58895be-d508-4ada-a9c9-7f227d8d5b35",
   "metadata": {},
   "outputs": [
    {
     "data": {
      "image/png": "[encoded data removed]",
      "text/plain": [
       "<Figure size 640x480 with 1 Axes>"
      ]
     },
     "metadata": {},
     "output_type": "display_data"
    }
   ],
   "source": [
    "results = []\n",
    "for _ in range(1000):\n",
    "    results.append(qc.measure_all(False)[:-5])\n",
    "states, counts = np.unique(results, return_counts=True)\n",
    "\n",
    "plt.bar(states, counts)\n",
    "plt.xticks(rotation=45)\n",
    "plt.show()"
   ]
  },
  {
   "cell_type": "markdown",
   "id": "4c83b440-9cd1-4c3c-804b-170620de4db4",
   "metadata": {},
   "source": [
    "From this plot, we can see that the correct solutions of $\\begin{bmatrix} 0 & 1 \\\\ 1 & 0 \\end{bmatrix}$ and $\\begin{bmatrix} 1 & 0 \\\\ 0 & 1 \\end{bmatrix}$ have been amplified successfully."
   ]
  }
 ],
 "metadata": {
  "kernelspec": {
   "display_name": "Python 3 (ipykernel)",
   "language": "python",
   "name": "python3"
  },
  "language_info": {
   "codemirror_mode": {
    "name": "ipython",
    "version": 3
   },
   "file_extension": ".py",
   "mimetype": "text/x-python",
   "name": "python",
   "nbconvert_exporter": "python",
   "pygments_lexer": "ipython3",
   "version": "3.11.2"
  }
 },
 "nbformat": 4,
 "nbformat_minor": 5
}
