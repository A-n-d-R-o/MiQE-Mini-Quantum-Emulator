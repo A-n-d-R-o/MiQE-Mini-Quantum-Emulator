{
 "cells": [
  {
   "cell_type": "code",
   "execution_count": 1,
   "id": "7b3bfb7a-5234-40d9-bd99-25975039fb52",
   "metadata": {},
   "outputs": [],
   "source": [
    "from MiQE import *"
   ]
  },
  {
   "cell_type": "code",
   "execution_count": 2,
   "id": "e6b868a4-d32f-46d0-9326-71ae6c7adcdb",
   "metadata": {},
   "outputs": [
    {
     "name": "stdout",
     "output_type": "stream",
     "text": [
      "Pre-teleportation:\n",
      "(0.70711) \u001b[1m|000⟩\u001b[0m + (-0.70711i) \u001b[1m|100⟩\u001b[0m\n",
      "\n",
      "Post-teleportation:\n",
      "(0.70711) \u001b[1m|000⟩\u001b[0m + (-0.70711i) \u001b[1m|001⟩\u001b[0m\n"
     ]
    }
   ],
   "source": [
    "tele_qc = QuantumCircuit(3)\n",
    "\n",
    "# create qubit (Psi) to teleport (index 0)\n",
    "tele_qc.gate(Rx(np.pi/2), 0)\n",
    "\n",
    "print('Pre-teleportation:')\n",
    "tele_qc.diracify()\n",
    "print()\n",
    "\n",
    "# initialise Bell pair (Phi+) on indices 1 and 2\n",
    "tele_qc.gate(H, 1)\n",
    "tele_qc.C(X, 1, 2)\n",
    "\n",
    "# Share e-bit (indices 1 and 2) between sender and receiver\n",
    "\n",
    "# encode Psi onto sender's qubit (index 1) of Bell pair\n",
    "tele_qc.C(X, 0, 1)\n",
    "tele_qc.gate(H, 0)\n",
    "\n",
    "# measure qubit indices 0 and 1\n",
    "bit_0 = tele_qc.measure(0)['q0']\n",
    "bit_1 = tele_qc.measure(1)['q1']\n",
    "\n",
    "# Send to receriver's qubit (index 2) of Bell pair\n",
    "\n",
    "# Decode teleported qubit onto receriver's qubit (index 2) of Bell pair\n",
    "if bit_1 == 1:\n",
    "    tele_qc.gate(X, 2)\n",
    "if bit_0 == 1:\n",
    "    tele_qc.gate(Z, 2)\n",
    "\n",
    "print('Post-teleportation:')\n",
    "tele_qc.diracify()"
   ]
  },
  {
   "cell_type": "markdown",
   "id": "d1b82466-853f-4a61-9c5c-909673fdd1ec",
   "metadata": {},
   "source": [
    "---\n",
    "## Explanation\n",
    "\n",
    "Let $|\\Psi\\rangle$ be the qubit to be teleported: \n",
    "$$ |\\Psi\\rangle = \\frac{1}{\\sqrt{2}}|0\\rangle - \\frac{i}{\\sqrt{2}}|1\\rangle. $$\n",
    "The full picture of `tele_qc` would be\n",
    "$$ |\\Psi\\rangle \\otimes |\\Phi^+\\rangle = \\left(\\frac{1}{\\sqrt{2}}|0\\rangle - \\frac{i}{\\sqrt{2}}|1\\rangle\\right) \\otimes \\left( \\frac{1}{\\sqrt{2}}|00\\rangle + \\frac{1}{\\sqrt{2}}|11\\rangle \\right)$$\n",
    "prior to teleportation. After teleportation, where $b_0$ is `bit_0` and $b_1$ is `bit_1`, the state of `tele_qc` becomes\n",
    "$$ \\frac{1}{\\sqrt{2}}|b_0b_10\\rangle - \\frac{i}{\\sqrt{2}}|b_0b_11\\rangle = |b_0b_1\\rangle \\otimes \\left( \\frac{1}{\\sqrt{2}}|0\\rangle - \\frac{i}{\\sqrt{2}}|1\\rangle \\right) = |b_0b_1\\rangle \\otimes |\\Psi\\rangle.$$\n",
    "Hence, $|\\Psi\\rangle$ has been teleported from index 0 to index 1 through the transfer of two bits across the shared e-bit."
   ]
  }
 ],
 "metadata": {
  "kernelspec": {
   "display_name": "Python 3 (ipykernel)",
   "language": "python",
   "name": "python3"
  },
  "language_info": {
   "codemirror_mode": {
    "name": "ipython",
    "version": 3
   },
   "file_extension": ".py",
   "mimetype": "text/x-python",
   "name": "python",
   "nbconvert_exporter": "python",
   "pygments_lexer": "ipython3",
   "version": "3.11.2"
  }
 },
 "nbformat": 4,
 "nbformat_minor": 5
}
