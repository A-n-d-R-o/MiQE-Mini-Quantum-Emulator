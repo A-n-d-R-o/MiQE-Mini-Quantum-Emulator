{
 "cells": [
  {
   "cell_type": "code",
   "execution_count": 1,
   "id": "79f2a7a7-991a-4bbe-b732-a110dc2e49fd",
   "metadata": {},
   "outputs": [],
   "source": [
    "from MiQE import *"
   ]
  },
  {
   "cell_type": "code",
   "execution_count": 2,
   "id": "712c2380-1f6a-489c-8e42-467fc966def5",
   "metadata": {},
   "outputs": [
    {
     "name": "stdout",
     "output_type": "stream",
     "text": [
      "Bit 0: initial value = 1, final value = 1.\n",
      "Bit 1: initial value = 1, final value = 1.\n"
     ]
    }
   ],
   "source": [
    "# define the bits to transfer (for this example: 11)\n",
    "bit_0a = 1\n",
    "bit_1a = 1\n",
    "\n",
    "# initialise Bell pair (Phi+)\n",
    "sdc_qc = QuantumCircuit(2)\n",
    "sdc_qc.gate(H, 0)\n",
    "sdc_qc.C(X, 0, 1)\n",
    "\n",
    "# encode the bits onto sender's qubit (index 0)\n",
    "if bit_0a == 1:\n",
    "    sdc_qc.gate(Z, 0)\n",
    "if bit_1a == 1:\n",
    "    sdc_qc.gate(X, 0)\n",
    "\n",
    "# send qubit (index 0) to other qubit (index 1) of e-bit\n",
    "\n",
    "# decode information of two sent bits\n",
    "sdc_qc.C(X, 0, 1)\n",
    "sdc_qc.gate(H, 0)\n",
    "\n",
    "# measure e-bit to reveal original bits\n",
    "bit_0b = sdc_qc.measure(0)['q0']\n",
    "bit_1b = sdc_qc.measure(1)['q1']\n",
    "\n",
    "print(f'Bit 0: initial value = {bit_0a}, final value = {bit_0b}.')\n",
    "print(f'Bit 1: initial value = {bit_1a}, final value = {bit_1b}.')"
   ]
  },
  {
   "cell_type": "markdown",
   "id": "59f356d1-1a8c-42a0-aceb-ac6ea2500b45",
   "metadata": {},
   "source": [
    "---\n",
    "\n",
    "## Explanation\n",
    "\n",
    "Depending on the initial values of the two bits, the action of encoding has a different effect on the e-bit. The table below shows the action of encoding for each possible bitstring.\n",
    "\n",
    "|`bit_0a` `bit_1a`|Encoding|\n",
    "|:-:|:-:|\n",
    "|0 0| $\\vert\\Phi^+\\rangle \\mapsto \\vert\\Phi^+\\rangle$|\n",
    "|0 1| $\\vert\\Phi^+\\rangle \\mapsto \\vert\\Psi^+\\rangle$|\n",
    "|1 0| $\\vert\\Phi^+\\rangle \\mapsto \\vert\\Phi^-\\rangle$|\n",
    "|1 1| $\\vert\\Phi^+\\rangle \\mapsto \\vert\\Psi^-\\rangle$|\n",
    "\n",
    "After encoding, the information is extracted by transforming the e-bit back into the original bitstring, by *'unentangling'* the information. This is, again, demonstrated by a table, showing the action of decoding.\n",
    "\n",
    "|Decoding|`bit_0a` `bit_1a`|\n",
    "|:-:|:-:|\n",
    "|$\\vert\\Phi^+\\rangle \\mapsto \\vert00\\rangle$|0 0|\n",
    "|$\\vert\\Psi^+\\rangle \\mapsto \\vert01\\rangle$| 0 1|\n",
    "|$\\vert\\Phi^-\\rangle \\mapsto \\vert10\\rangle$|1 0|\n",
    "|$\\vert\\Psi^-\\rangle \\mapsto -\\vert11\\rangle$|1 1|"
   ]
  }
 ],
 "metadata": {
  "kernelspec": {
   "display_name": "Python 3 (ipykernel)",
   "language": "python",
   "name": "python3"
  },
  "language_info": {
   "codemirror_mode": {
    "name": "ipython",
    "version": 3
   },
   "file_extension": ".py",
   "mimetype": "text/x-python",
   "name": "python",
   "nbconvert_exporter": "python",
   "pygments_lexer": "ipython3",
   "version": "3.11.2"
  }
 },
 "nbformat": 4,
 "nbformat_minor": 5
}
