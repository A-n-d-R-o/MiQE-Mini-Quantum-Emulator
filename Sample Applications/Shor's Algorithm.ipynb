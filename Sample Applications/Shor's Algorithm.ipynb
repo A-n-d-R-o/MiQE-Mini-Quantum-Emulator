{
 "cells": [
  {
   "cell_type": "markdown",
   "id": "1004a466-9526-44ec-bcf1-418ffe3f5c15",
   "metadata": {},
   "source": [
    "### High-level implementation of Shor's algorithm (builds operators element-by-element, not gate-by-gate). Due to memory limitations, only small non-trivial cases (e.g. 15) can be factorised.\n",
    "\n",
    "---"
   ]
  },
  {
   "cell_type": "code",
   "execution_count": 1,
   "id": "56ed0e12-7827-4e27-a455-1ee1a169956a",
   "metadata": {},
   "outputs": [],
   "source": [
    "from MiQE import *\n",
    "from fractions import Fraction"
   ]
  },
  {
   "cell_type": "code",
   "execution_count": 2,
   "id": "392859f8-b5ba-4d63-962c-925397f6c233",
   "metadata": {},
   "outputs": [],
   "source": [
    "def mod_mult_gate(b, N):\n",
    "\n",
    "    if np.gcd(b, N) > 1:\n",
    "        raise ValueError(f'gcd({b}, {N}) > 1.')\n",
    "    else:\n",
    "        n = int(np.ceil(np.log2(N-1)))\n",
    "        U = np.zeros((2**n, 2**n), dtype=complex)\n",
    "\n",
    "        for x in range(N):\n",
    "            U[b*x % N, x] = 1\n",
    "        for x in range(N, 2**n):\n",
    "            U[x, x] = 1\n",
    "\n",
    "        return U"
   ]
  },
  {
   "cell_type": "code",
   "execution_count": 3,
   "id": "1ee89711-29b0-449c-b8dd-6947314e2101",
   "metadata": {},
   "outputs": [],
   "source": [
    "def controlled_mod_mult_gate(circuit, b, N, control, target):\n",
    "    \n",
    "    proj_0 = np.array([[1, 0], [0, 0]], dtype=complex)\n",
    "    proj_1 = np.array([[0, 0], [0, 1]], dtype=complex)\n",
    "\n",
    "    G = mod_mult_gate(b, N)\n",
    "    t = len(target)\n",
    "    num_qubits = circuit.n\n",
    "\n",
    "    inactive_path = []\n",
    "    active_path = []\n",
    "\n",
    "    i = 0\n",
    "    while i < num_qubits:\n",
    "        if i == control:\n",
    "            inactive_path.append(proj_0)\n",
    "            active_path.append(proj_1)\n",
    "            i += 1\n",
    "        elif i == target[0]:\n",
    "            inactive_path += [I] * t\n",
    "            active_path.append(G)\n",
    "            i += t\n",
    "        else:\n",
    "            inactive_path.append(I)\n",
    "            active_path.append(I)\n",
    "            i += 1\n",
    "\n",
    "    expanded_gate = reduce(np.kron, inactive_path) + reduce(np.kron, active_path) \n",
    "    circuit.state = expanded_gate @ circuit.state"
   ]
  },
  {
   "cell_type": "code",
   "execution_count": 4,
   "id": "41aee72f-1a9d-4734-ab5e-d1f75b10e5f6",
   "metadata": {},
   "outputs": [],
   "source": [
    "def inverse_QFT(circuit, m):\n",
    "    \n",
    "    N = 2**m\n",
    "    omega = np.exp(2j * np.pi / N)\n",
    "    \n",
    "    j = np.arange(N).reshape((N, 1))\n",
    "    k = np.arange(N).reshape((1, N))\n",
    "    QFT = omega ** (j * k)\n",
    "\n",
    "    QFT /= np.sqrt(N)\n",
    "    QFT_inv = np.linalg.inv(QFT)\n",
    "\n",
    "    path = []\n",
    "    path.append(QFT_inv)\n",
    "    # for i in range(circuit.n - m):\n",
    "    #     path.append(I)\n",
    "    path += [I] * (circuit.n - m)\n",
    "\n",
    "    expanded_gate = reduce(np.kron, path)\n",
    "    circuit.state = expanded_gate @ circuit.state"
   ]
  },
  {
   "cell_type": "code",
   "execution_count": 5,
   "id": "d069f19b-5b3d-48e1-a106-8bf07c475eac",
   "metadata": {},
   "outputs": [],
   "source": [
    "def order_finding_circuit(a, N):\n",
    "\n",
    "    if np.gcd(a, N) > 1:\n",
    "        raise ValueError(f'gcd({a}, {N}) > 1.')\n",
    "    else:\n",
    "        n = int(np.ceil(np.log2(N-1)))\n",
    "        m = 2*n\n",
    "\n",
    "        control = [qubit for qubit in range(m)]\n",
    "        target = [qubit + m for qubit in range(n)]\n",
    "        circuit = QuantumCircuit(m + n)\n",
    "\n",
    "        circuit.gate(X, m)\n",
    "\n",
    "        for k, qubit in enumerate(control):\n",
    "            circuit.gate(H, k)\n",
    "            b = pow(a, 2**k, N)\n",
    "            controlled_mod_mult_gate(circuit, b, N, control=qubit, target=target)\n",
    "\n",
    "        inverse_QFT(circuit, m)\n",
    "\n",
    "        measurement = circuit.measure_all()[:-n]\n",
    "\n",
    "        return measurement"
   ]
  },
  {
   "cell_type": "code",
   "execution_count": 6,
   "id": "212bf871-cdc6-40fb-ae0b-3d9b0bbd52b2",
   "metadata": {},
   "outputs": [],
   "source": [
    "def find_order(a, N, max_attempts=30):\n",
    "    \n",
    "    if np.gcd(a, N) > 1:\n",
    "        raise ValueError(f'gcd({a}, {N}) > 1.')\n",
    "    else:\n",
    "        n = int(np.ceil(np.log2(N-1)))\n",
    "        m = 2*n\n",
    "\n",
    "        for attempt in range(max_attempts): \n",
    "            measurement = order_finding_circuit(a, N)\n",
    "            \n",
    "            y = int(measurement[::-1], 2)\n",
    "            r = Fraction(y / 2**m).limit_denominator(N).denominator\n",
    "            \n",
    "            print(f'Attempt {attempt+1}: measurement = {y}, order approx = {r}')\n",
    "            \n",
    "            if pow(a, r, N) == 1:\n",
    "                return r\n",
    "    \n",
    "        raise RuntimeError(f'Failed to find a valid order of {a} modulo {N} after {max_attempts} attempts.')"
   ]
  },
  {
   "cell_type": "code",
   "execution_count": 7,
   "id": "8e99839f-51fc-4362-a201-6caff67d39b2",
   "metadata": {},
   "outputs": [
    {
     "name": "stdout",
     "output_type": "stream",
     "text": [
      "Attempt 1: measurement = 0, order approx = 1\n",
      "Attempt 2: measurement = 128, order approx = 2\n",
      "Attempt 3: measurement = 64, order approx = 4\n",
      "\n",
      "The order of 7 modulo 15 is 4\n",
      "Factor found: 3\n",
      "\t\u001b[1mSolution\u001b[0m: 15 = 3 * 5\n"
     ]
    }
   ],
   "source": [
    "N = 15\n",
    "\n",
    "factor_found = False\n",
    "\n",
    "if N % 2 == 0:\n",
    "    print('Even number')\n",
    "    d = 2\n",
    "    factor_found = True\n",
    "else:\n",
    "    for k in range(2, round(np.log2(N)) + 1):\n",
    "        d = int(round(N**(1/k)))\n",
    "        if d**k == N:\n",
    "            factor_found = True\n",
    "            print('Number is a power')\n",
    "            break\n",
    "\n",
    "while not factor_found:\n",
    "    a = np.random.randint(2, N-1)\n",
    "    d = np.gcd(a, N)\n",
    "    if d > 1:\n",
    "        factor_found = True\n",
    "        print(f'Lucky guess of {a} modulo {N}')\n",
    "    else:\n",
    "        r = find_order(a, N)\n",
    "        print(f'\\nThe order of {a} modulo {N} is {r}')\n",
    "        if r % 2 == 0:\n",
    "            x = pow(a, r//2, N) - 1\n",
    "            d = np.gcd(x, N)\n",
    "            if d > 1 and d != N:\n",
    "                factor_found = True\n",
    "\n",
    "print(f'Factor found: {d}')\n",
    "print(f'\\t\\033[1mSolution\\033[0m: {N} = {d} * {int(N/d)}')"
   ]
  }
 ],
 "metadata": {
  "kernelspec": {
   "display_name": "Python 3 (ipykernel)",
   "language": "python",
   "name": "python3"
  },
  "language_info": {
   "codemirror_mode": {
    "name": "ipython",
    "version": 3
   },
   "file_extension": ".py",
   "mimetype": "text/x-python",
   "name": "python",
   "nbconvert_exporter": "python",
   "pygments_lexer": "ipython3",
   "version": "3.11.2"
  }
 },
 "nbformat": 4,
 "nbformat_minor": 5
}
